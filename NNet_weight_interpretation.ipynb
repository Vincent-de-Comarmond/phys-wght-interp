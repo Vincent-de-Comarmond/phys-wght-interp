{
 "cells": [
  {
   "cell_type": "markdown",
   "id": "1e22381c",
   "metadata": {},
   "source": [
    "# **Is there a reasonable (physical) interpretation of neural network weights - or is this even a thing to care about?**\n",
    "\n",
    "## **Maybe yes, maybe no, definitely sometimes**\n",
    "\n",
    "\n",
    "\n"
   ]
  },
  {
   "cell_type": "markdown",
   "id": "4b38df5d",
   "metadata": {},
   "source": [
    "## **NOTES:**\n",
    "\n",
    "- Okay .... I'm just going to assume everybody knows some basics of NNets\n",
    "- I ended up going down this path because of the work I was doing when I started working"
   ]
  },
  {
   "cell_type": "markdown",
   "id": "8fe5d280",
   "metadata": {},
   "source": [
    "### NNet weights - the innocent explanation\n",
    "\n",
    "**Most of the \"stuff\" I've seen has described NNet weights in the following way**\n",
    "\n",
    "- The neurons in a neural network are like the neurons of the brain \n",
    "  - Disclaimer: I'm not a neurologist, but I hear this isn't really accurate\n",
    "\n",
    "- The weights between the neurons represent the \"connection strength\" between neurons.\n",
    "  - Now ... maybe accurate, but:\n",
    "    - Connections between \"what\"\n",
    "    - Isn't there some better explanation\n",
    "\n",
    "### Point of this little presentation: Indeed, one can sometimes understand/interpret these NNet neurons in a physically meaningful way "
   ]
  },
  {
   "cell_type": "markdown",
   "id": "fe43dd30",
   "metadata": {},
   "source": [
    "## Simple case 1:\n",
    "\n",
    "![Simple Circle](./resources/simple_example.svg \"Simple Circle Example\")\n",
    "\n",
    "\n",
    "So ... let's investigate a little toy problem.\n",
    "In this problem we have a function where points are \"inside the ring\" or \"outside the ring\"\n",
    "Let's see if we can recover the simple function (hint we know it, it's obvious) with a baby nnet ... and see what we learn.\n",
    "\n",
    "Oh, btw: I'll be measuring the angles here in: $\\tau = 2.rad = 360\\deg$"
   ]
  },
  {
   "cell_type": "code",
   "execution_count": 1,
   "id": "e8803d9f",
   "metadata": {},
   "outputs": [],
   "source": [
    "# Imports and setup\n",
    "\n",
    "from numpy import cos, logical_and, sin, stack, pi as PI, round\n",
    "from numpy.random import rand, seed\n",
    "\n",
    "from sklearn.neural_network import MLPClassifier\n",
    "\n",
    "from sympy import init_printing, Matrix, symbols\n",
    "from sympy.functions.elementary.piecewise import Piecewise\n",
    "from sympy.functions.elementary.exponential import exp\n",
    "from sympy.plotting.plot import plot\n",
    "from sympy.printing import pprint\n",
    "from sympy.simplify import simplify\n",
    "\n",
    "init_printing()\n",
    "\n",
    "TRAIN_SIZE = 10000\n",
    "TEST_SIZE = 2000\n",
    "INNER_SIZE=0.5\n",
    "OUTER_SIZE=0.6"
   ]
  },
  {
   "cell_type": "markdown",
   "id": "b053a270",
   "metadata": {},
   "source": [
    "### Training and test coordinates in Spherical/Polar coordinates"
   ]
  },
  {
   "cell_type": "code",
   "execution_count": 2,
   "id": "e1e7eab1",
   "metadata": {},
   "outputs": [],
   "source": [
    "pol_train = rand(TRAIN_SIZE, 2)\n",
    "pol_test = rand(TEST_SIZE, 2)\n",
    "\n",
    "train_sol = logical_and(INNER_SIZE <= pol_train[:, 0], pol_train[:, 0] <= OUTER_SIZE).astype(int)\n",
    "test_sol = logical_and(INNER_SIZE <= pol_test[:, 0], pol_test[:, 0] <= OUTER_SIZE).astype(int)"
   ]
  },
  {
   "cell_type": "markdown",
   "id": "c35328f4",
   "metadata": {},
   "source": [
    "### And in Cartesian coordinates"
   ]
  },
  {
   "cell_type": "code",
   "execution_count": 3,
   "id": "8f4fbbe0",
   "metadata": {},
   "outputs": [],
   "source": [
    "xy_train = stack(\n",
    "    (\n",
    "        pol_train[:, 0] * cos(2 * pol_train[:, 1]),\n",
    "        pol_train[:, 0] * sin(2 * pol_train[:, 1]),\n",
    "    ),\n",
    "    axis=1,\n",
    ")\n",
    "xy_test = stack(\n",
    "    (\n",
    "        pol_test[:, 0] * cos(2 * pol_test[:, 1]),\n",
    "        pol_test[:, 0] * sin(2 * pol_test[:, 1]),\n",
    "    ),\n",
    "    axis=1,\n",
    ")"
   ]
  },
  {
   "cell_type": "markdown",
   "id": "167fbdc9",
   "metadata": {},
   "source": [
    "### Okay let's train our little network in polar coordinates"
   ]
  },
  {
   "cell_type": "code",
   "execution_count": 4,
   "id": "b9942bfe",
   "metadata": {},
   "outputs": [
    {
     "name": "stdout",
     "output_type": "stream",
     "text": [
      "Loss: 2.0598994096204845e-09\n",
      "Test score: 0.9995\n"
     ]
    }
   ],
   "source": [
    "seed(15)\n",
    "pol_clf = MLPClassifier(\n",
    "    hidden_layer_sizes=(2,),\n",
    "    activation=\"relu\",\n",
    "    solver=\"lbfgs\",\n",
    "    max_iter=2000,\n",
    "    tol=0.000001,\n",
    "    alpha=0,\n",
    ")\n",
    "pol_clf.fit(pol_train, train_sol)\n",
    "print(f\"Loss: {pol_clf.loss_}\")\n",
    "print(f\"Test score: {pol_clf.score(pol_test, test_sol)}\")"
   ]
  },
  {
   "cell_type": "markdown",
   "id": "942173e4",
   "metadata": {},
   "source": [
    "**Cool, let's look at our weights and biases for the 2 layers of connections**"
   ]
  },
  {
   "cell_type": "code",
   "execution_count": 5,
   "id": "c1fc65d9",
   "metadata": {},
   "outputs": [
    {
     "name": "stdout",
     "output_type": "stream",
     "text": [
      "Weights:\n",
      "Layer 0:\n",
      "\t[[ 7.66819542e+02 -4.42665991e+02]\n",
      "\t [-1.00513087e+00  7.08175869e-02]]\n",
      "Layer 1:\n",
      "\t[[-533.3279756 ]\n",
      "\t [-330.69901043]]\n",
      "Biases:\n",
      "Layer 0:\n",
      "\t[-458.57175954  222.95733456]\n",
      "Layer 1:\n",
      "\t[548.96814356]\n"
     ]
    }
   ],
   "source": [
    "print(\"Weights:\")\n",
    "for idx, weight in enumerate(pol_clf.coefs_):\n",
    "    print(f\"Layer {idx}:\")\n",
    "    print(\"\\t{}\".format(str(weight).replace(\"\\n\", \"\\n\\t\")))\n",
    "\n",
    "print(\"Biases:\")\n",
    "for idx, bias in enumerate(pol_clf.intercepts_):\n",
    "    print(f\"Layer {idx}:\")\n",
    "    print(\"\\t{}\".format(str(bias).replace(\"\\n\", \"\\n\\t\")))"
   ]
  },
  {
   "cell_type": "markdown",
   "id": "7253064e",
   "metadata": {},
   "source": [
    "Wow ... (well not really so surprising) ... there's like 4 orders of magnitude difference in the contributions between the $r$ terms and $\\theta$ terms.\n",
    "\n",
    "Let's do some simple rounding, write out the equations, and plot the simple graphs:"
   ]
  },
  {
   "cell_type": "code",
   "execution_count": 6,
   "id": "6e141865",
   "metadata": {},
   "outputs": [
    {
     "name": "stdout",
     "output_type": "stream",
     "text": [
      "Layer 0 before activation:\n",
      "767.0⋅r - θ - 459.0\n",
      "223.0 - 443.0⋅r\n"
     ]
    }
   ],
   "source": [
    "input_vals = Matrix([symbols(\"r θ\")])\n",
    "pol_coefs = [round(_, 0) for _ in pol_clf.coefs_]\n",
    "pol_ints = [round(_, 0) for _ in pol_clf.intercepts_]\n",
    "layer_0_top, layer_0_bottom = input_vals * Matrix(pol_coefs[0]) + Matrix(pol_ints[0]).transpose()\n",
    "\n",
    "print(\"Layer 0 before activation:\")\n",
    "pprint(layer_0_top)\n",
    "pprint(layer_0_bottom)"
   ]
  },
  {
   "cell_type": "code",
   "execution_count": 12,
   "id": "8bc2fefa",
   "metadata": {},
   "outputs": [
    {
     "data": {
      "image/png": "[encoded data removed]",
      "text/plain": [
       "<Figure size 432x288 with 1 Axes>"
      ]
     },
     "metadata": {
      "needs_background": "light"
     },
     "output_type": "display_data"
    },
    {
     "data": {
      "image/png": "[encoded data removed]",
      "text/plain": [
       "<Figure size 432x288 with 1 Axes>"
      ]
     },
     "metadata": {
      "needs_background": "light"
     },
     "output_type": "display_data"
    },
    {
     "data": {
      "text/latex": [
       "$\\displaystyle \\left[\\begin{matrix}\\begin{cases} 767.0 r - 459.0 & \\text{for}\\: 767.0 r > 459.0 \\\\0 & \\text{otherwise} \\end{cases} & \\begin{cases} 223.0 - 443.0 r & \\text{for}\\: r < 0.503386004514673 \\\\0 & \\text{otherwise} \\end{cases}\\end{matrix}\\right]$"
      ],
      "text/plain": [
       "⎡⎧767.0⋅r - 459.0  for 767.0⋅r > 459.0  ⎧223.0 - 443.0⋅r  for r < 0.503386004514673⎤\n",
       "⎢⎨                                      ⎨                                          ⎥\n",
       "⎣⎩       0              otherwise       ⎩       0                 otherwise        ⎦"
      ]
     },
     "execution_count": 12,
     "metadata": {},
     "output_type": "execute_result"
    }
   ],
   "source": [
    "layer_0 = Matrix(\n",
    "    [\n",
    "        [\n",
    "            Piecewise((layer_0_top, simplify(layer_0_top > 0)), (0, True)),\n",
    "            Piecewise((layer_0_bottom, simplify(layer_0_bottom > 0)), (0, True))\n",
    "        ]\n",
    "    ]\n",
    ")\n",
    "layer_0=layer_0.subs(\"θ\", 0)\n",
    "layer_0\n",
    "\n",
    "plot(*layer_0, (symbols(\"r\"), -2, 2))\n",
    "plot(*layer_0, (symbols(\"r\"), 0.42, 0.65))\n",
    "layer_0"
   ]
  },
  {
   "cell_type": "markdown",
   "id": "3ae132b0",
   "metadata": {},
   "source": [
    "So ... we can definitely see something different is happening between $~0.5$ and $~0.5$.\n",
    "Let's go through the rest and see what pops out."
   ]
  },
  {
   "cell_type": "code",
   "execution_count": 13,
   "id": "41efb6a1",
   "metadata": {},
   "outputs": [
    {
     "data": {
      "text/latex": [
       "$\\displaystyle \\begin{cases} \\begin{cases} 146633.0 r - 73264.0 & \\text{for}\\: r < 0.503386004514673 \\\\245196.0 - 408811.0 r & \\text{for}\\: r > 0.598435462842242 \\\\549.0 & \\text{otherwise} \\end{cases} & \\text{for}\\: r > 0.499641963268841 \\wedge r < 0.599778381697166 \\\\0 & \\text{otherwise} \\end{cases}$"
      ],
      "text/plain": [
       "⎧⎧146633.0⋅r - 73264.0   for r < 0.503386004514673                                                   \n",
       "⎪⎪                                                                                                   \n",
       "⎪⎨245196.0 - 408811.0⋅r  for r > 0.598435462842242  for r > 0.499641963268841 ∧ r < 0.599778381697166\n",
       "⎨⎪                                                                                                   \n",
       "⎪⎩        549.0                  otherwise                                                           \n",
       "⎪                                                                                                    \n",
       "⎩                        0                                              otherwise                    "
      ]
     },
     "execution_count": 13,
     "metadata": {},
     "output_type": "execute_result"
    }
   ],
   "source": [
    "layer_1_pre_activation=simplify((layer_0*Matrix(pol_coefs[1]) + Matrix(pol_ints[1]))[0])\n",
    "\n",
    "layer_1=simplify(Piecewise((layer_1_pre_activation, layer_1_pre_activation > 0), (0, True)))\n",
    "layer_1"
   ]
  },
  {
   "cell_type": "markdown",
   "id": "2d76bb19",
   "metadata": {},
   "source": [
    "Let's plot this and binarize"
   ]
  },
  {
   "cell_type": "code",
   "execution_count": 14,
   "id": "f77ea8c3",
   "metadata": {},
   "outputs": [
    {
     "data": {
      "image/png": "[encoded data removed]",
      "text/plain": [
       "<Figure size 432x288 with 1 Axes>"
      ]
     },
     "metadata": {
      "needs_background": "light"
     },
     "output_type": "display_data"
    },
    {
     "name": "stdout",
     "output_type": "stream",
     "text": [
      "Binarized output:\n",
      "⎧1  for r > 0.499641963268841 ∧ r < 0.599778381697166\n",
      "⎨                                                    \n",
      "⎩0                      otherwise                    \n"
     ]
    },
    {
     "data": {
      "image/png": "[encoded data removed]",
      "text/plain": [
       "<Figure size 432x288 with 1 Axes>"
      ]
     },
     "metadata": {
      "needs_background": "light"
     },
     "output_type": "display_data"
    },
    {
     "data": {
      "text/plain": [
       "<sympy.plotting.plot.Plot at 0x7f2a75d8a580>"
      ]
     },
     "execution_count": 14,
     "metadata": {},
     "output_type": "execute_result"
    }
   ],
   "source": [
    "plot(layer_1, (symbols(\"r\"), 0.25, 0.75))\n",
    "binarized_output = simplify(Piecewise((1, layer_1 > 0), (0, True)))\n",
    "print(\"Binarized output:\")\n",
    "pprint(binarized_output)\n",
    "plot(binarized_output, (symbols(\"r\"), 0, 1))"
   ]
  },
  {
   "cell_type": "markdown",
   "id": "7da89762",
   "metadata": {},
   "source": [
    "#### Surprise surprise, we've recoverd our \"original\" eqution\n",
    "\n",
    "- One cannot really replicate this with cartesian co-ordinates\n",
    "    - Think about encoding:  $r_0^2 <= x^2 + y ^2 <= r_1^2$\n",
    "- One does not get nice simple results if you don't use `relu` as the activation function\n",
    "    - The nice (mathematically `unsmooth`, `continuous`) edges, which the other SciPy activation functions don't have, are needed\n",
    "- **In certain conditions one can get meaningful information from the weights/biases of the NNet rather than just from the output layer**\n",
    "    - In the above scenario the two components of the original equation ($x >= 0.5$ and $x<=0.6$) can more-or-less just be read off straight from the weights.\n",
    "\n",
    "**So, what do we learn?**\n",
    "\n",
    "- The way one encodes the problem is important\n",
    "- Architecting the NNet so that it reflects what's happening in the problem can dramatically simplify things \n",
    "    - With the cartesian co-ordinates something like 2 - 3 layers of 6 - 8 neurons were needed for good accuracy (still worse accuracy, though, that one 2-neuron layer with polar coordinates).\n",
    "- **In some circumstances it is possible to get meaningful information from the weights of the NNet**"
   ]
  },
  {
   "cell_type": "markdown",
   "id": "84fe7efa",
   "metadata": {},
   "source": [
    "## Part 2:\n",
    "\n",
    "Q: What did I start off doing?\n",
    "\n",
    "A: Building seismic models for mines."
   ]
  },
  {
   "cell_type": "code",
   "execution_count": 15,
   "id": "66f39a67",
   "metadata": {},
   "outputs": [
    {
     "data": {
      "text/html": [
       "<div id=\"glowscript\" class=\"glowscript\"></div>"
      ],
      "text/plain": [
       "<IPython.core.display.HTML object>"
      ]
     },
     "metadata": {},
     "output_type": "display_data"
    },
    {
     "data": {
      "application/javascript": [
       "if (typeof Jupyter !== \"undefined\") { window.__context = { glowscript_container: $(\"#glowscript\").removeAttr(\"id\")};}else{ element.textContent = ' ';}"
      ],
      "text/plain": [
       "<IPython.core.display.Javascript object>"
      ]
     },
     "metadata": {},
     "output_type": "display_data"
    },
    {
     "data": {
      "text/html": [
       "<div id=\"glowscript\" class=\"glowscript\"></div>"
      ],
      "text/plain": [
       "<IPython.core.display.HTML object>"
      ]
     },
     "metadata": {},
     "output_type": "display_data"
    },
    {
     "data": {
      "application/javascript": [
       "if (typeof Jupyter !== \"undefined\") { window.__context = { glowscript_container: $(\"#glowscript\").removeAttr(\"id\")};}else{ element.textContent = ' ';}"
      ],
      "text/plain": [
       "<IPython.core.display.Javascript object>"
      ]
     },
     "metadata": {},
     "output_type": "display_data"
    },
    {
     "data": {
      "application/javascript": [
       "if (typeof Jupyter !== \"undefined\") {require.undef(\"nbextensions/vpython_libraries/glow.min\");}else{element.textContent = ' ';}"
      ],
      "text/plain": [
       "<IPython.core.display.Javascript object>"
      ]
     },
     "metadata": {},
     "output_type": "display_data"
    },
    {
     "data": {
      "application/javascript": [
       "if (typeof Jupyter !== \"undefined\") {require.undef(\"nbextensions/vpython_libraries/glowcomm\");}else{element.textContent = ' ';}"
      ],
      "text/plain": [
       "<IPython.core.display.Javascript object>"
      ]
     },
     "metadata": {},
     "output_type": "display_data"
    },
    {
     "data": {
      "application/javascript": [
       "if (typeof Jupyter !== \"undefined\") {require.undef(\"nbextensions/vpython_libraries/jquery-ui.custom.min\");}else{element.textContent = ' ';}"
      ],
      "text/plain": [
       "<IPython.core.display.Javascript object>"
      ]
     },
     "metadata": {},
     "output_type": "display_data"
    },
    {
     "data": {
      "application/javascript": [
       "if (typeof Jupyter !== \"undefined\") {require([\"nbextensions/vpython_libraries/glow.min\"], function(){console.log(\"GLOW LOADED\");});}else{element.textContent = ' ';}"
      ],
      "text/plain": [
       "<IPython.core.display.Javascript object>"
      ]
     },
     "metadata": {},
     "output_type": "display_data"
    },
    {
     "data": {
      "application/javascript": [
       "if (typeof Jupyter !== \"undefined\") {require([\"nbextensions/vpython_libraries/glowcomm\"], function(){console.log(\"GLOWCOMM LOADED\");});}else{element.textContent = ' ';}"
      ],
      "text/plain": [
       "<IPython.core.display.Javascript object>"
      ]
     },
     "metadata": {},
     "output_type": "display_data"
    },
    {
     "data": {
      "application/javascript": [
       "if (typeof Jupyter !== \"undefined\") {require([\"nbextensions/vpython_libraries/jquery-ui.custom.min\"], function(){console.log(\"JQUERY LOADED\");});}else{element.textContent = ' ';}"
      ],
      "text/plain": [
       "<IPython.core.display.Javascript object>"
      ]
     },
     "metadata": {},
     "output_type": "display_data"
    },
    {
     "name": "stdout",
     "output_type": "stream",
     "text": [
      "t = 1.0024999999999897\n"
     ]
    },
    {
     "data": {
      "image/png": "[encoded data removed]",
      "text/plain": [
       "<Figure size 432x288 with 1 Axes>"
      ]
     },
     "metadata": {
      "needs_background": "light"
     },
     "output_type": "display_data"
    }
   ],
   "source": [
    "import lattice_v2\n",
    "lattice_v2.run_sim()\n"
   ]
  },
  {
   "cell_type": "markdown",
   "id": "f361f5dc",
   "metadata": {},
   "source": [
    "### What does this look like if we plot things slightly differently?\n",
    "\n",
    "\n",
    "Sorry: I was unable to put this together ... hopefully you can see it in your mind's eye, though.\n",
    "\n",
    "**The imagining:**\n",
    "\n",
    "- How would this look if we plotted the nodes of the model not spatially, _but according to the time at which they first deviated from their rest state_ (i.e. time ordered)?\n",
    "- I hope in your imagination it looks something like this:\n",
    "\n",
    "<img src=\"./resources/silly_mlp.jpg\" alt=\"Silly small MLP example\" width=\"200\"/>\n"
   ]
  },
  {
   "cell_type": "markdown",
   "id": "221f1fca",
   "metadata": {},
   "source": [
    "**Am I lying to you?**\n",
    "\n",
    "Well, you can decide for yourself. Let's take some sentences from an important paper$^{[1]}$.\n",
    "\n",
    "- Lailly and Tarantola recast the migration imaging principle ... as a local optimization problem, the aim of which is least-squares minimization of the misfit between recorded and modeled data.\n",
    "- ... the gradient of the misfit function ... can be built by crosscorrelating the incident wavefield ... and the back-propagated residual wavefields.\n",
    "- As widely stressed, FWI is an ill-posed problem, meaning that an infinite number of models matches the data. Some regularizations are conventionally applied to the inversion to make it better posed.\n",
    "- Alternatively, the inverse of the Hessian in equation 11 can be replaced by a scalar $\\alpha$, the so-called step length, leading to the gradient or steepest-descent method.\n",
    "\n",
    "**So the keywords are:**\n",
    "- Forward-problem\n",
    "- Back propogation\n",
    "- Gradient descent\n",
    "- Regularization\n",
    "\n",
    "**Does this sound familiar?**\n",
    "\n",
    "Going through the calculations, one finds that, indeed, it is extremely similar to \"normal\" NNets (though somewhat more involved).\n",
    "\n",
    "- Below is a successful (though synthetic) example of one of my inversions:"
   ]
  },
  {
   "cell_type": "code",
   "execution_count": 16,
   "id": "9838a544",
   "metadata": {},
   "outputs": [
    {
     "data": {
      "text/html": [
       "<video src=\"./resources/Beta_Inversion.mp4\" controls  width=\"600\" >\n",
       "      Your browser does not support the <code>video</code> element.\n",
       "    </video>"
      ],
      "text/plain": [
       "<IPython.core.display.Video object>"
      ]
     },
     "execution_count": 16,
     "metadata": {},
     "output_type": "execute_result"
    }
   ],
   "source": [
    "from IPython.display import Video\n",
    "\n",
    "Video(\"./resources/Beta_Inversion.mp4\", width=600)"
   ]
  },
  {
   "cell_type": "markdown",
   "id": "4814ec57",
   "metadata": {},
   "source": [
    "### Is seismology a special case here?\n",
    "\n",
    "- No\n",
    "- Without hardly any effort I dug up a paper $^{[2]}$ using the same technique but for robotic arms (in reinforcement learning):\n",
    "    - In this case the control equations for the robotic arm were the governing equations of the NNet\n",
    "    - The parameters estimated were the parameters the robotic arm needed to operate as desired\n",
    "- Then I found this gem $^{[3]}$\n",
    "    - This demonstrates that a technique like this can be applied in many cases where the equations controlling the system are known\n",
    "\n",
    "\n",
    "### Is this ideal (back to the seismology case)?\n",
    "\n",
    "- No ... there is a huge need for regularization\n",
    "- Why?\n",
    "    - NNets often need to be regularized as they are underdetermined \n",
    "    - There is no surprise here\n",
    "    - The system as described by the \"raw\" physical equations are <i><u>even more underdetermined</u></i> than most NNets\n",
    "    - Why?\n",
    "        - Look again at that very simple 2D seismic waves\n",
    "        - Imagine it without boundaries\n",
    "        - How many of those \"rock elements\" / \"neurons\" actually contribute to what is sensed at the sensor?\n",
    "        - Answer: very few\n",
    "    - But modifying/reformulation of the standard problem gives far better results (see [3] and [4])"
   ]
  },
  {
   "cell_type": "markdown",
   "id": "aaad2884",
   "metadata": {},
   "source": [
    "# Conclusion / Point of Interest\n",
    "\n",
    "- **In some situations, given a neural-network that describes a system, one can interpret not only the input's and outputs as \"physically\" meaningful, but one can even map the neural network weights and connections to physically meaningful parameters and equations controlling and describing the system.**\n",
    "- **If one knows the equations describing the system, there is a chance one can reformulate the problem so that the weights of the NNet can be interpreted as physically meaningful parameters.**"
   ]
  },
  {
   "cell_type": "markdown",
   "id": "f2d9775b",
   "metadata": {},
   "source": [
    "1. J. Virieux and S. Operto  \n",
    "An overview of full-waveform inversion in exploration geophysics\n",
    "Geophysics v**74.6** (2006)\n",
    "2. [Neural Networks with Physical Meaning: Representation of Kinematic Equations from Robot Arms Using a Neural Network Topology](https://ieeexplore.ieee.org/document/8588585)\n",
    "3. K. Kashinath, M. Mustafa, A. Albert et al.  \n",
    "Physics-informed machine learning: case studies for weather and climate modelling  \n",
    "Philosophical Transactions of the Royal Society (15 Feb. 2021)  \n",
    "Available url: https://royalsocietypublishing.org/doi/10.1098/rsta.2020.0093 (as of 2022-01-13)\n",
    "4. Y. Wu and Y. Lin   \n",
    "InversionNet: A Real-Time and Accurate Full Waveform Inversion with CNNs and continuous CRFs  \n",
    "IEEE TRANSACTIONS ON COMPUTATIONAL IMAGING (5 Jan 2019)\n",
    "(Available URL: https://arxiv.org/abs/1811.07875 as of 17 Jan 2022)"
   ]
  }
 ],
 "metadata": {
  "kernelspec": {
   "display_name": "Python 3 (ipykernel)",
   "language": "python",
   "name": "python3"
  },
  "language_info": {
   "codemirror_mode": {
    "name": "ipython",
    "version": 3
   },
   "file_extension": ".py",
   "mimetype": "text/x-python",
   "name": "python",
   "nbconvert_exporter": "python",
   "pygments_lexer": "ipython3",
   "version": "3.8.10"
  }
 },
 "nbformat": 4,
 "nbformat_minor": 5
}
